{
 "cells": [
  {
   "cell_type": "markdown",
   "metadata": {},
   "source": [
    "#Create a program to generate a password\n",
    "length 12\n",
    "\n",
    "6 random == \"A-Z a-z\"\n",
    "\n",
    "4 --> digits\n",
    "\n",
    "2 -- > special characters\n",
    "\n",
    "Expected Output:\n",
    "\n",
    "$ji12kt56yU#\n",
    "\n",
    "Not acceptable output:\n",
    "\n",
    "whiter1565#$\n",
    "\n",
    "Note: Output should be a mix of all the things mentioned above. "
   ]
  },
  {
   "cell_type": "code",
   "execution_count": 2,
   "metadata": {},
   "outputs": [
    {
     "name": "stdout",
     "output_type": "stream",
     "text": [
      "num of letters:12\n",
      "5JfI8f8@9W$i\n"
     ]
    }
   ],
   "source": [
    "import random \n",
    "chars = \"abcdefghijklmnopqrstuvwxyzABCDEFGHIJKLMNOPQRSTUVWXYZ1234567890-+=!@#$%^&*\"\n",
    "length_of_pass = int(input(\"num of letters:\"))\n",
    "def pass_generator(num):\n",
    "    password = ''\n",
    "    for i in range(num):\n",
    "        password += random.choice(chars)\n",
    "    return password\n",
    "print(pass_generator(length_of_pass))"
   ]
  },
  {
   "cell_type": "code",
   "execution_count": null,
   "metadata": {},
   "outputs": [],
   "source": []
  }
 ],
 "metadata": {
  "kernelspec": {
   "display_name": "Python 3",
   "language": "python",
   "name": "python3"
  },
  "language_info": {
   "codemirror_mode": {
    "name": "ipython",
    "version": 3
   },
   "file_extension": ".py",
   "mimetype": "text/x-python",
   "name": "python",
   "nbconvert_exporter": "python",
   "pygments_lexer": "ipython3",
   "version": "3.7.4"
  }
 },
 "nbformat": 4,
 "nbformat_minor": 2
}
